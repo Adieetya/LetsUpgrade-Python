{
 "cells": [
  {
   "cell_type": "markdown",
   "metadata": {},
   "source": [
    "# Silver Project\n",
    "\n",
    "## Aditya Dhuri\n",
    "\n",
    "### The Game: Rock, Paper and Scissor"
   ]
  },
  {
   "cell_type": "code",
   "execution_count": 2,
   "metadata": {},
   "outputs": [
    {
     "name": "stdout",
     "output_type": "stream",
     "text": [
      "Enter your name : \n",
      "adi\n",
      "Computer = 0 || adi = 0 || tie = 0 \n",
      "\n",
      "adi, choose among the Rock(r), Paper(p) or Scissor(s) : p\n",
      "Computer = p\n",
      "It's a tie! \n",
      "\n",
      "Computer = 0 || adi = 0 || tie = 1 \n",
      "\n",
      "Type exit to stop the program, type any another number to keep playing: r\n",
      "\n",
      "\n",
      "adi, choose among the Rock(r), Paper(p) or Scissor(s) : r\n",
      "Computer = s\n",
      "adi Wins! \n",
      "\n",
      "Computer = 0 || adi = 1 || tie = 1 \n",
      "\n",
      "Type exit to stop the program, type any another number to keep playing: s\n",
      "\n",
      "\n",
      "adi, choose among the Rock(r), Paper(p) or Scissor(s) : s\n",
      "Computer = s\n",
      "It's a tie! \n",
      "\n",
      "Computer = 0 || adi = 1 || tie = 2 \n",
      "\n",
      "Type exit to stop the program, type any another number to keep playing: exit\n",
      "\n",
      "\n"
     ]
    }
   ],
   "source": [
    "import random\n",
    "\n",
    "def compare(usr, comp):\n",
    "    if usr==comp:\n",
    "        counter['t']+= 1\n",
    "        return \"It's a tie! \\n\"\n",
    "    elif usr=='r':\n",
    "        if comp=='p':\n",
    "            counter['c']+=1\n",
    "            return \"Computer Wins! \\n\"\n",
    "        else:\n",
    "            counter['u']+=1\n",
    "            return (\"%s Wins! \\n\"%user)\n",
    "    elif usr=='p':\n",
    "        if comp=='r':\n",
    "            counter['u']+=1\n",
    "            return (\"%s Wins! \\n\"%user)\n",
    "        else:\n",
    "            counter['c']+=1\n",
    "            return \"Computer Wins! \\n\"\n",
    "    elif usr=='s':\n",
    "        if comp=='r':\n",
    "            counter['c']+=1\n",
    "            return \"Computer Wins! \\n\"\n",
    "        else:\n",
    "            counter['u']+=1\n",
    "            return (\"%s Wins! \\n\"%user)\n",
    "    else:\n",
    "        return \"Invalid!, Play again \\n\"\n",
    "\n",
    "user = input(\"Enter your name : \\n\")\n",
    "counter = {'c':0, 'u':0, 't':0}\n",
    "print(\"Computer =\", counter['c'], \"||\", end=\" \")\n",
    "print(user +\" =\", counter['u'], \"||\", end=\" \")\n",
    "print(\"tie\" +\" =\", counter['t'],\"\\n\")\n",
    "\n",
    "while True:\n",
    "    user_ans = input(\"%s, choose among the Rock(r), Paper(p) or Scissor(s) : \" %user)\n",
    "    if user_ans == 'q':\n",
    "        break\n",
    "    choices = ['r', 'p', 's']\n",
    "    index = random.randint(0,100)%3\n",
    "    comp_ans = choices[index]\n",
    "    print(\"Computer =\",comp_ans)\n",
    "    res = compare(user_ans, comp_ans)\n",
    "    print(res)\n",
    "    print(\"Computer =\", counter['c'], \"||\", end=\" \")\n",
    "    print(user + \" =\", counter['u'], \"||\", end=\" \")\n",
    "    print(\"tie\" +\" =\", counter['t'],\"\\n\")\n",
    "    \n",
    "    command = input(\"Type exit to stop the program, type any another number to keep playing: \")\n",
    "    print(\"\\n\")\n",
    "    if command == \"exit\" :\n",
    "        break"
   ]
  },
  {
   "cell_type": "code",
   "execution_count": null,
   "metadata": {},
   "outputs": [],
   "source": []
  }
 ],
 "metadata": {
  "kernelspec": {
   "display_name": "Python 3",
   "language": "python",
   "name": "python3"
  },
  "language_info": {
   "codemirror_mode": {
    "name": "ipython",
    "version": 3
   },
   "file_extension": ".py",
   "mimetype": "text/x-python",
   "name": "python",
   "nbconvert_exporter": "python",
   "pygments_lexer": "ipython3",
   "version": "3.7.6"
  }
 },
 "nbformat": 4,
 "nbformat_minor": 4
}

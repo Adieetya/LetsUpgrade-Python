{
 "cells": [
  {
   "cell_type": "markdown",
   "metadata": {},
   "source": [
    "# Day - 6\n",
    "\n",
    "## Name - Aditya Dhuri\n",
    "\n",
    "### Assignment - 1"
   ]
  },
  {
   "cell_type": "code",
   "execution_count": 13,
   "metadata": {},
   "outputs": [],
   "source": [
    "class bankAccount() :\n",
    "    ownerName = \"\"\n",
    "    balance = 0\n",
    "\n",
    "    def __init__ (self, ownerName, balance):\n",
    "        self.ownerName = ownerName\n",
    "        self.balance = balance\n",
    "        print(\"Class Object initiated\")\n",
    "    \n",
    "    def deposit(self, depo):\n",
    "        self.balance = self.balance + depo\n",
    "        print(\"Your current balance is \", self.balance)\n",
    "        \n",
    "    def withdraw(self, withdraw):\n",
    "        if self.balance < withdraw :\n",
    "            print(\"You cannot withdraw your ammount\")\n",
    "        else:\n",
    "            self.balance = self.balance - withdraw\n",
    "            print(withdraw, \"is your withdraw ammount\\nCurrent Balance: \", self.balance)\n",
    "            \n",
    "    def showDetails(self):\n",
    "        print(\"Name: \", self.ownerName)\n",
    "        print(\"Current Balance: \", self.balance)"
   ]
  },
  {
   "cell_type": "code",
   "execution_count": 14,
   "metadata": {},
   "outputs": [
    {
     "name": "stdout",
     "output_type": "stream",
     "text": [
      "Class Object initiated\n"
     ]
    }
   ],
   "source": [
    "bk_ac=bankAccount(\"Aditya\",100000)"
   ]
  },
  {
   "cell_type": "code",
   "execution_count": 15,
   "metadata": {},
   "outputs": [
    {
     "name": "stdout",
     "output_type": "stream",
     "text": [
      "Your current balance is  300000\n"
     ]
    }
   ],
   "source": [
    "bk_ac.deposit(200000)"
   ]
  },
  {
   "cell_type": "code",
   "execution_count": 16,
   "metadata": {},
   "outputs": [
    {
     "name": "stdout",
     "output_type": "stream",
     "text": [
      "50000 is your withdraw ammount\n",
      "Current Balance:  250000\n"
     ]
    }
   ],
   "source": [
    "bk_ac.withdraw(50000)"
   ]
  },
  {
   "cell_type": "code",
   "execution_count": 17,
   "metadata": {},
   "outputs": [
    {
     "name": "stdout",
     "output_type": "stream",
     "text": [
      "You cannot withdraw your ammount\n"
     ]
    }
   ],
   "source": [
    "bk_ac.withdraw(2500000)"
   ]
  },
  {
   "cell_type": "code",
   "execution_count": null,
   "metadata": {},
   "outputs": [],
   "source": []
  },
  {
   "cell_type": "markdown",
   "metadata": {},
   "source": [
    "### Assignment 2"
   ]
  },
  {
   "cell_type": "code",
   "execution_count": 18,
   "metadata": {},
   "outputs": [],
   "source": [
    "import math\n",
    "class cone() :\n",
    "    radius = 0\n",
    "    height = 0\n",
    "    \n",
    "    def __init__ (self, radius, height):\n",
    "        self.radius = int(radius)\n",
    "        self.height = int(height)\n",
    "        print(\"Class object initiated\")\n",
    "        \n",
    "    def vol(self,):\n",
    "        volume = math.pi*(self.radius*self.radius)*(self.height/3)\n",
    "        print(\"Volume of the cone is: \",volume)\n",
    "\n",
    "    def surArea (self):\n",
    "        val = ((self.radius*self.radius)+(self.height*self.height))\n",
    "        base = math.pi*(self.radius*self.radius)\n",
    "        side= math.pi*self.radius*(math.sqrt(val))\n",
    "        surfaceArea = base+side\n",
    "        print(\"Surface area of the cone is: \", surfaceArea)"
   ]
  },
  {
   "cell_type": "code",
   "execution_count": 19,
   "metadata": {},
   "outputs": [
    {
     "name": "stdout",
     "output_type": "stream",
     "text": [
      "Class object initiated\n"
     ]
    }
   ],
   "source": [
    "con = cone(4, 6)"
   ]
  },
  {
   "cell_type": "code",
   "execution_count": 20,
   "metadata": {},
   "outputs": [
    {
     "name": "stdout",
     "output_type": "stream",
     "text": [
      "Volume of the cone is:  100.53096491487338\n"
     ]
    }
   ],
   "source": [
    "con.vol()"
   ]
  },
  {
   "cell_type": "code",
   "execution_count": 21,
   "metadata": {},
   "outputs": [
    {
     "name": "stdout",
     "output_type": "stream",
     "text": [
      "Surface area of the cone is:  140.8828696505485\n"
     ]
    }
   ],
   "source": [
    "con.surArea()"
   ]
  },
  {
   "cell_type": "code",
   "execution_count": null,
   "metadata": {},
   "outputs": [],
   "source": []
  },
  {
   "cell_type": "code",
   "execution_count": null,
   "metadata": {},
   "outputs": [],
   "source": []
  }
 ],
 "metadata": {
  "kernelspec": {
   "display_name": "Python 3",
   "language": "python",
   "name": "python3"
  },
  "language_info": {
   "codemirror_mode": {
    "name": "ipython",
    "version": 3
   },
   "file_extension": ".py",
   "mimetype": "text/x-python",
   "name": "python",
   "nbconvert_exporter": "python",
   "pygments_lexer": "ipython3",
   "version": "3.7.6"
  }
 },
 "nbformat": 4,
 "nbformat_minor": 4
}

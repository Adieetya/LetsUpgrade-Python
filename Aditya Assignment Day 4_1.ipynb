{
 "cells": [
  {
   "cell_type": "code",
   "execution_count": 7,
   "metadata": {},
   "outputs": [],
   "source": [
    "file_1 = open('binary_file.bin', 'w')\n",
    "file_1.close()"
   ]
  },
  {
   "cell_type": "code",
   "execution_count": 8,
   "metadata": {},
   "outputs": [],
   "source": [
    "file_1=open(\"binary_file.bin\", \"r\")\n",
    "file_1.close()"
   ]
  },
  {
   "cell_type": "code",
   "execution_count": 9,
   "metadata": {},
   "outputs": [],
   "source": [
    "file_1 = open(\"binary_file.bin\",\"w\")\n",
    "\n",
    "file_1.write(\"writing something\")\n",
    "\n",
    "file_1.close()"
   ]
  },
  {
   "cell_type": "code",
   "execution_count": 10,
   "metadata": {},
   "outputs": [
    {
     "name": "stdout",
     "output_type": "stream",
     "text": [
      "writing something\n"
     ]
    }
   ],
   "source": [
    "file_1=open(\"binary_file.bin\", \"r\")\n",
    "\n",
    "openfile = file_1.read()\n",
    "print(openfile)\n",
    "file_1.close()"
   ]
  },
  {
   "cell_type": "code",
   "execution_count": 13,
   "metadata": {},
   "outputs": [
    {
     "name": "stdout",
     "output_type": "stream",
     "text": [
      "writing something\n"
     ]
    }
   ],
   "source": [
    "file_1=open(\"binary_file.bin\", \"r+\")\n",
    "\n",
    "openfile = file_1.read()\n",
    "print(openfile)\n",
    "file_1.close()"
   ]
  },
  {
   "cell_type": "code",
   "execution_count": 22,
   "metadata": {},
   "outputs": [
    {
     "name": "stdout",
     "output_type": "stream",
     "text": [
      "\n"
     ]
    }
   ],
   "source": [
    "file_1 = open('binary_file.bin', 'w')\n",
    "file_1.close()\n",
    "\n",
    "file_1 = open(\"binary_file.bin\",\"w\")\n",
    "file_1.write(\"I love LetsUpgrade\")\n",
    "file_1.close()\n",
    "\n",
    "file_1=open(\"binary_file.bin\", \"r+\")\n",
    "file_1.write(\"We all love Python class with LU\")\n",
    "openfile = file_1.read()\n",
    "print(openfile)\n",
    "file_1.close()"
   ]
  },
  {
   "cell_type": "code",
   "execution_count": null,
   "metadata": {},
   "outputs": [],
   "source": []
  },
  {
   "cell_type": "code",
   "execution_count": 15,
   "metadata": {},
   "outputs": [
    {
     "name": "stdout",
     "output_type": "stream",
     "text": [
      "\n"
     ]
    }
   ],
   "source": [
    "file_1=open(\"binary_file.bin\", \"r+\")\n",
    "file_1.write(\"We all love Python class with LU\")\n",
    "openfile = file_1.read()\n",
    "print(openfile)\n",
    "file_1.close()"
   ]
  },
  {
   "cell_type": "code",
   "execution_count": null,
   "metadata": {},
   "outputs": [],
   "source": []
  },
  {
   "cell_type": "code",
   "execution_count": 4,
   "metadata": {},
   "outputs": [
    {
     "name": "stdout",
     "output_type": "stream",
     "text": [
      "Enter the type: Action\n"
     ]
    },
    {
     "ename": "TypeError",
     "evalue": "object of type 'builtin_function_or_method' has no len()",
     "output_type": "error",
     "traceback": [
      "\u001b[1;31m---------------------------------------------------------------------------\u001b[0m",
      "\u001b[1;31mTypeError\u001b[0m                                 Traceback (most recent call last)",
      "\u001b[1;32m<ipython-input-4-abfd0517b811>\u001b[0m in \u001b[0;36m<module>\u001b[1;34m\u001b[0m\n\u001b[0;32m     17\u001b[0m     \u001b[0mprint\u001b[0m\u001b[1;33m(\u001b[0m\u001b[0mAction\u001b[0m\u001b[1;33m.\u001b[0m\u001b[0mget\u001b[0m\u001b[1;33m[\u001b[0m\u001b[0mAc\u001b[0m\u001b[1;33m]\u001b[0m\u001b[1;33m)\u001b[0m\u001b[1;33m\u001b[0m\u001b[1;33m\u001b[0m\u001b[0m\n\u001b[0;32m     18\u001b[0m \u001b[1;32melse\u001b[0m\u001b[1;33m:\u001b[0m\u001b[1;33m\u001b[0m\u001b[1;33m\u001b[0m\u001b[0m\n\u001b[1;32m---> 19\u001b[1;33m     \u001b[0mT\u001b[0m\u001b[1;33m=\u001b[0m\u001b[0mrandom\u001b[0m\u001b[1;33m.\u001b[0m\u001b[0mchoice\u001b[0m\u001b[1;33m(\u001b[0m\u001b[0mThriller\u001b[0m\u001b[1;33m.\u001b[0m\u001b[0mkeys\u001b[0m\u001b[1;33m)\u001b[0m\u001b[1;33m\u001b[0m\u001b[1;33m\u001b[0m\u001b[0m\n\u001b[0m\u001b[0;32m     20\u001b[0m     \u001b[0mprint\u001b[0m\u001b[1;33m(\u001b[0m\u001b[0mThriller\u001b[0m\u001b[1;33m.\u001b[0m\u001b[0mget\u001b[0m\u001b[1;33m[\u001b[0m\u001b[0mT\u001b[0m\u001b[1;33m]\u001b[0m\u001b[1;33m)\u001b[0m\u001b[1;33m\u001b[0m\u001b[1;33m\u001b[0m\u001b[0m\n",
      "\u001b[1;32mC:\\ProgramData\\Anaconda3\\lib\\random.py\u001b[0m in \u001b[0;36mchoice\u001b[1;34m(self, seq)\u001b[0m\n\u001b[0;32m    257\u001b[0m         \u001b[1;34m\"\"\"Choose a random element from a non-empty sequence.\"\"\"\u001b[0m\u001b[1;33m\u001b[0m\u001b[1;33m\u001b[0m\u001b[0m\n\u001b[0;32m    258\u001b[0m         \u001b[1;32mtry\u001b[0m\u001b[1;33m:\u001b[0m\u001b[1;33m\u001b[0m\u001b[1;33m\u001b[0m\u001b[0m\n\u001b[1;32m--> 259\u001b[1;33m             \u001b[0mi\u001b[0m \u001b[1;33m=\u001b[0m \u001b[0mself\u001b[0m\u001b[1;33m.\u001b[0m\u001b[0m_randbelow\u001b[0m\u001b[1;33m(\u001b[0m\u001b[0mlen\u001b[0m\u001b[1;33m(\u001b[0m\u001b[0mseq\u001b[0m\u001b[1;33m)\u001b[0m\u001b[1;33m)\u001b[0m\u001b[1;33m\u001b[0m\u001b[1;33m\u001b[0m\u001b[0m\n\u001b[0m\u001b[0;32m    260\u001b[0m         \u001b[1;32mexcept\u001b[0m \u001b[0mValueError\u001b[0m\u001b[1;33m:\u001b[0m\u001b[1;33m\u001b[0m\u001b[1;33m\u001b[0m\u001b[0m\n\u001b[0;32m    261\u001b[0m             \u001b[1;32mraise\u001b[0m \u001b[0mIndexError\u001b[0m\u001b[1;33m(\u001b[0m\u001b[1;34m'Cannot choose from an empty sequence'\u001b[0m\u001b[1;33m)\u001b[0m \u001b[1;32mfrom\u001b[0m \u001b[1;32mNone\u001b[0m\u001b[1;33m\u001b[0m\u001b[1;33m\u001b[0m\u001b[0m\n",
      "\u001b[1;31mTypeError\u001b[0m: object of type 'builtin_function_or_method' has no len()"
     ]
    }
   ],
   "source": [
    "import random\n",
    "\n",
    "print(\"Enter a Choice as \\n 1 = Anime \\n 2 = RomCom \\n 3 = Action \\n 4 = Thriller\")\n",
    "num = int(input(\"Enter your choice from above menu \"))\n",
    "\n",
    "def movie(num):\n",
    "    if num == 1:\n",
    "        print(\"You have choosen the Anime movies, the best recommandation for you is :\")\n",
    "        an = [\"A Whisker Away\", \"Kiki's Delivery\", \"The Wind Rises\", \"Pokemon\", \"Tom and Jerry\"]\n",
    "        print(random.choice(an))\n",
    "    elif num == 2:\n",
    "        print(\"You have choosen the RomCom movies, the best recommandation for you is :\")\n",
    "        rc = [\"\", \"Luka Chuppi\", \"De De Pyaar De\", \"\", \"\"]\n",
    "        print(random.choice(rc))\n",
    "    elif num == 3:\n",
    "        print(\"You have choosen the Action movies, the best recommandation for you is :\")\n",
    "        rc = [\"Fast and furious\", \"Extraction\", \"Terminator\", \"War\", \"Mission Impossible\", \"The final destinantion\"]\n",
    "        print(random.choice(rc))\n",
    "    elif num == 4:\n",
    "        print(\"You have choosen the Thriller movies, the best recommandation for you is :\")\n",
    "        rc = [\"Fantasy Island\", \"Crawl\", \"Annabelle\", \"The Nun\", \"Spyder\", \"Andhadhun\", \"Murder\"]\n",
    "        print(random.choice(rc))\n",
    "    else:\n",
    "        print(\"\\tPlease choose your choice between 1 to 4\") \n",
    "movie(num)\n",
    "print(\"\\n     ----------------------\\n\\tThank You!!!!!!!! \\n\\tHave a Nice Day!!!!! \\n     ----------------------\")\n"
   ]
  },
  {
   "cell_type": "code",
   "execution_count": null,
   "metadata": {},
   "outputs": [],
   "source": []
  }
 ],
 "metadata": {
  "kernelspec": {
   "display_name": "Python 3",
   "language": "python",
   "name": "python3"
  },
  "language_info": {
   "codemirror_mode": {
    "name": "ipython",
    "version": 3
   },
   "file_extension": ".py",
   "mimetype": "text/x-python",
   "name": "python",
   "nbconvert_exporter": "python",
   "pygments_lexer": "ipython3",
   "version": "3.7.6"
  }
 },
 "nbformat": 4,
 "nbformat_minor": 4
}

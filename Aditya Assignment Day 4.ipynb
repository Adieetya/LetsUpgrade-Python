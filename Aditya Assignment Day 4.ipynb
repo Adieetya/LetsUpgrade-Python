{
 "cells": [
  {
   "cell_type": "markdown",
   "metadata": {},
   "source": [
    "# Day - 4 \n",
    "\n",
    "\n",
    "## Name - Yugendra Walavalkar"
   ]
  },
  {
   "cell_type": "markdown",
   "metadata": {},
   "source": [
    "### Assignment - 1"
   ]
  },
  {
   "cell_type": "code",
   "execution_count": 1,
   "metadata": {},
   "outputs": [
    {
     "name": "stdout",
     "output_type": "stream",
     "text": [
      "Enter a positive integer 15\n",
      "Fibonacci sequence is:\n",
      "0\n",
      "1\n",
      "1\n",
      "2\n",
      "3\n",
      "5\n",
      "8\n",
      "13\n",
      "21\n",
      "34\n",
      "55\n",
      "89\n",
      "144\n",
      "233\n",
      "377\n"
     ]
    }
   ],
   "source": [
    "def fibo(n):\n",
    "    if n <= 1:\n",
    "        return n\n",
    "    else:\n",
    "        return(fibo(n-1) + fibo(n-2))\n",
    "    \n",
    "nterms = int(input(\"Enter a positive integer \"))\n",
    "\n",
    "if nterms <= 0:\n",
    "    print(\"Plese enter a positive integer\")\n",
    "else:\n",
    "    print(\"Fibonacci sequence is:\")\n",
    "    for i in range(nterms):\n",
    "        print(fibo(i))"
   ]
  },
  {
   "cell_type": "code",
   "execution_count": null,
   "metadata": {},
   "outputs": [],
   "source": []
  },
  {
   "cell_type": "markdown",
   "metadata": {},
   "source": [
    "### Assignment - 2"
   ]
  },
  {
   "cell_type": "code",
   "execution_count": 2,
   "metadata": {},
   "outputs": [],
   "source": [
    "file = open(\"Assignment2.bin\",\"wb\")\n",
    "file.close()"
   ]
  },
  {
   "cell_type": "code",
   "execution_count": 3,
   "metadata": {},
   "outputs": [],
   "source": [
    "file = open(\"Assignment2.bin\",\"w\")\n",
    "file.write(\"I Love LetsUpgrade\")\n",
    "file.close()"
   ]
  },
  {
   "cell_type": "code",
   "execution_count": 4,
   "metadata": {},
   "outputs": [
    {
     "name": "stdout",
     "output_type": "stream",
     "text": [
      "I Love LetsUpgrade\n"
     ]
    }
   ],
   "source": [
    "file = open(\"Assignment2.bin\", \"r\")\n",
    "print(file.read())\n",
    "file.close()  "
   ]
  },
  {
   "cell_type": "code",
   "execution_count": 5,
   "metadata": {},
   "outputs": [],
   "source": [
    "file = open(\"Assignment2.bin\", \"a\")\n",
    "file.write(\"\\n\\nWe all love Python Classes with LU\")\n",
    "file.close()  "
   ]
  },
  {
   "cell_type": "code",
   "execution_count": 6,
   "metadata": {},
   "outputs": [
    {
     "name": "stdout",
     "output_type": "stream",
     "text": [
      "I Love LetsUpgrade\n",
      "\n",
      "We all love Python Classes with LU\n"
     ]
    }
   ],
   "source": [
    "with open(\"Assignment2.bin\", \"r\") as file:\n",
    "    print(file.read())\n",
    "    "
   ]
  },
  {
   "cell_type": "code",
   "execution_count": null,
   "metadata": {},
   "outputs": [],
   "source": []
  },
  {
   "cell_type": "markdown",
   "metadata": {},
   "source": [
    "### Assignment - 3"
   ]
  },
  {
   "cell_type": "code",
   "execution_count": 7,
   "metadata": {},
   "outputs": [
    {
     "name": "stdout",
     "output_type": "stream",
     "text": [
      "Enter a Choice as \n",
      " 1 = Anime \n",
      " 2 = RomCom \n",
      " 3 = Action \n",
      " 4 = Thriller\n",
      "Enter your choice from above menu 3\n",
      "You have choosen the Action movies, the best recommandation for you is :\n",
      "War\n",
      "\n",
      "     ----------------------\n",
      "\tThank You!!!!!!!! \n",
      "\tHave a Nice Day!!!!! \n",
      "     ----------------------\n"
     ]
    }
   ],
   "source": [
    "import random\n",
    "\n",
    "print(\"Enter a Choice as \\n 1 = Anime \\n 2 = RomCom \\n 3 = Action \\n 4 = Thriller\")\n",
    "num = int(input(\"Enter your choice from above menu \"))\n",
    "\n",
    "def movie(num):\n",
    "    if num == 1:\n",
    "        print(\"You have choosen the Anime movies, the best recommandation for you is :\")\n",
    "        an = [\"A Whisker Away\", \"Kiki's Delivery\", \"The Wind Rises\", \"Pokemon\", \"Tom and Jerry\"]\n",
    "        print(random.choice(an))\n",
    "    elif num == 2:\n",
    "        print(\"You have choosen the RomCom movies, the best recommandation for you is :\")\n",
    "        rc = [\"\", \"Luka Chuppi\", \"De De Pyaar De\", \"\", \"\"]\n",
    "        print(random.choice(rc))\n",
    "    elif num == 3:\n",
    "        print(\"You have choosen the Action movies, the best recommandation for you is :\")\n",
    "        rc = [\"Fast and furious\", \"Extraction\", \"Terminator\", \"War\", \"Mission Impossible\", \"The final destinantion\"]\n",
    "        print(random.choice(rc))\n",
    "    elif num == 4:\n",
    "        print(\"You have choosen the Thriller movies, the best recommandation for you is :\")\n",
    "        rc = [\"Fantasy Island\", \"Crawl\", \"Annabelle\", \"The Nun\", \"Spyder\", \"Andhadhun\", \"Murder\"]\n",
    "        print(random.choice(rc))\n",
    "    else:\n",
    "        print(\"\\tPlease choose your choice between 1 to 4\") \n",
    "movie(num)\n",
    "print(\"\\n     ----------------------\\n\\tThank You!!!!!!!! \\n\\tHave a Nice Day!!!!! \\n     ----------------------\")\n"
   ]
  },
  {
   "cell_type": "code",
   "execution_count": null,
   "metadata": {},
   "outputs": [],
   "source": []
  }
 ],
 "metadata": {
  "kernelspec": {
   "display_name": "Python 3",
   "language": "python",
   "name": "python3"
  },
  "language_info": {
   "codemirror_mode": {
    "name": "ipython",
    "version": 3
   },
   "file_extension": ".py",
   "mimetype": "text/x-python",
   "name": "python",
   "nbconvert_exporter": "python",
   "pygments_lexer": "ipython3",
   "version": "3.7.6"
  }
 },
 "nbformat": 4,
 "nbformat_minor": 4
}
